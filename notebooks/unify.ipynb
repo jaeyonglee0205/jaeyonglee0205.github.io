{
 "cells": [
  {
   "cell_type": "code",
   "execution_count": 58,
   "id": "85252c35",
   "metadata": {},
   "outputs": [],
   "source": [
    "import os\n",
    "import json\n",
    "import networkx as nx\n",
    "import matplotlib.pyplot as plt\n",
    "import math"
   ]
  },
  {
   "cell_type": "code",
   "execution_count": 59,
   "id": "7db6f244",
   "metadata": {},
   "outputs": [
    {
     "name": "stdout",
     "output_type": "stream",
     "text": [
      "['family', 'home', 'america', 'country', 'nation', 'unity', 'allies', 'alliance', 'liberty', 'stand', 'victory', 'us', 'we', 'president', 'community', 'army', 'national', 'united', 'unify', 'unification', 'american', 'freedom', 'government', 'war', 'red', 'friends', 'friend', 'unified', 'together', 'unite']\n"
     ]
    }
   ],
   "source": [
    "word_list = \"family home america country nation unity allies alliance liberty stand victory us we president community army national united unify unification american freedom government war red friends friend unified together unite\"\n",
    "\n",
    "word_list = word_list.split()\n",
    "print(word_list)\n",
    "\n",
    "region={\"0\":\"North Central\", \"1\": \"Northeast\", \"2\":\"South\", \"3\":\"West\"}\n"
   ]
  },
  {
   "cell_type": "code",
   "execution_count": 60,
   "id": "939169af",
   "metadata": {},
   "outputs": [],
   "source": [
    "def create_u_graph (filename, colo):\n",
    "    with open(filename, \"r\") as f:\n",
    "        content = json.load(f)\n",
    "    \n",
    "    year_list = [40, 50, 60]\n",
    "    totals = []\n",
    "    for k, v in content.items():\n",
    "        #print(filename, k)\n",
    "        items = dict()\n",
    "        total = 0\n",
    "        denom = 0\n",
    "        for word, info in v.items():\n",
    "            denom += info[\"frequency\"]\n",
    "            if word in word_list:\n",
    "                items[word] = info[\"frequency\"]\n",
    "                total += info[\"frequency\"]\n",
    "        words = list(items.keys())\n",
    "        values = list(items.values())\n",
    "        plt.figure(figsize=(12, 6))\n",
    "        i = filename.replace(\"refined_results_\", \"\").replace(\".json\", \"\")\n",
    "        \n",
    "        plt.title(f\"Frequency of Words Related to Unification - {region[i]} 19{k}s\")\n",
    "        plt.xlabel(\"Words\")\n",
    "        plt.ylabel('Frequency')\n",
    "\n",
    "        plt.bar(range(len(items)), values, tick_label=words, color=colo)\n",
    "        plt.savefig(f\"{region[i]}_{k}.jpg\", format=\"jpg\")\n",
    "        plt.close()\n",
    "        if denom == 0:\n",
    "            continue\n",
    "        totals.append(round(total/denom, 3) * 100)\n",
    "    \n",
    "    print(filename, totals)\n",
    "    r = region[i]\n",
    "    if filename == \"refined_results_1.json\":\n",
    "        plt.figure(figsize=(12, 6))\n",
    "        plt.title(f\"Total % of Frequency of Words Related to Unification, Over the Years - {r}\")\n",
    "        plt.xlabel(\"Total\")\n",
    "        plt.ylabel(\"Accumulated % of Frequency\")\n",
    "        plt.bar(range(len(year_list[:2])), totals, tick_label=year_list[:2], color=colo)\n",
    "        plt.savefig(f\"percentage_frequency_{r}.jpg\", format=\"jpg\")\n",
    "        plt.close()\n",
    "    else:\n",
    "        plt.figure(figsize=(12, 6))\n",
    "        plt.title(f\"Total % of Frequency of Words Related to Unification, Over the Years - {r}\")\n",
    "        plt.xlabel(\"Total\")\n",
    "        plt.ylabel(\"Accumulated % of Frequency\")\n",
    "        plt.bar(range(len(year_list)), totals, tick_label=year_list, color=colo)\n",
    "        plt.savefig(f\"percentage_frequency_{r}.jpg\", format=\"jpg\")\n",
    "        plt.close()\n",
    "    \n",
    "                "
   ]
  },
  {
   "cell_type": "code",
   "execution_count": 61,
   "id": "c8ba72e9",
   "metadata": {},
   "outputs": [
    {
     "name": "stdout",
     "output_type": "stream",
     "text": [
      "refined_results_0.json [5.3, 5.1, 5.1]\n",
      "refined_results_1.json [3.9, 4.2]\n",
      "refined_results_2.json [4.3, 3.0, 2.9000000000000004]\n",
      "refined_results_3.json [6.4, 5.1, 3.0]\n"
     ]
    }
   ],
   "source": [
    "create_u_graph(\"refined_results_0.json\", \"#C93535\")\n",
    "create_u_graph(\"refined_results_1.json\", \"#E8B500\")\n",
    "create_u_graph(\"refined_results_2.json\", \"#2674BA\")\n",
    "create_u_graph(\"refined_results_3.json\", \"#448C2A\")"
   ]
  },
  {
   "cell_type": "code",
   "execution_count": null,
   "id": "d6ae7c32",
   "metadata": {},
   "outputs": [],
   "source": []
  }
 ],
 "metadata": {
  "kernelspec": {
   "display_name": "Python 3 (ipykernel)",
   "language": "python",
   "name": "python3"
  },
  "language_info": {
   "codemirror_mode": {
    "name": "ipython",
    "version": 3
   },
   "file_extension": ".py",
   "mimetype": "text/x-python",
   "name": "python",
   "nbconvert_exporter": "python",
   "pygments_lexer": "ipython3",
   "version": "3.9.7"
  }
 },
 "nbformat": 4,
 "nbformat_minor": 5
}
