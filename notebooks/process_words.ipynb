{
 "cells": [
  {
   "cell_type": "code",
   "execution_count": 1,
   "id": "a1abcf8f",
   "metadata": {},
   "outputs": [],
   "source": [
    "import os\n",
    "import spacy\n",
    "import json\n",
    "from tqdm import tqdm\n",
    "import numpy as np\n",
    "from scipy.special import softmax"
   ]
  },
  {
   "cell_type": "code",
   "execution_count": 2,
   "id": "2a0d4123",
   "metadata": {},
   "outputs": [],
   "source": [
    "from transformers import pipeline, AutoTokenizer, AutoModelForSequenceClassification, AutoConfig"
   ]
  },
  {
   "cell_type": "code",
   "execution_count": 3,
   "id": "eb6452b2",
   "metadata": {},
   "outputs": [],
   "source": [
    "MODEL=\"cardiffnlp/twitter-roberta-base-sentiment-latest\""
   ]
  },
  {
   "cell_type": "code",
   "execution_count": 4,
   "id": "e111e124",
   "metadata": {},
   "outputs": [],
   "source": [
    "nlp = spacy.load(\"en_core_web_sm\")"
   ]
  },
  {
   "cell_type": "code",
   "execution_count": 5,
   "id": "c52a651a",
   "metadata": {},
   "outputs": [],
   "source": [
    "def process_file(filename):\n",
    "    refined_json = dict()\n",
    "    #sentiment_task = pipeline(\"sentiment-analysis\", model=MODEL, tokenizer=MODEL)\n",
    "    tokenizer = AutoTokenizer.from_pretrained(MODEL)\n",
    "    model = AutoModelForSequenceClassification.from_pretrained(MODEL)\n",
    "    config = AutoConfig.from_pretrained(MODEL)\n",
    "    with open(filename, \"r\") as f:\n",
    "        content = json.load(f)\n",
    "\n",
    "    for k, v in content.items():\n",
    "        c = \" \".join(v.keys())\n",
    "        doc = nlp(c)\n",
    "        for word in doc:\n",
    "            if word.is_stop or word.is_punct or word.is_space or word.like_num:\n",
    "                txt = word.text\n",
    "                del v[txt]\n",
    "        refined_json[k] = v\n",
    "    \n",
    "    \n",
    "    for k, v in refined_json.items():\n",
    "        for term, frequency in tqdm(v.items()):\n",
    "            info = dict()\n",
    "            v[term] = dict()\n",
    "            v[term][\"frequency\"] = frequency\n",
    "#             result = sentiment_task(term)[0]\n",
    "#             v[term][\"sentiment\"] = result\n",
    "            token = tokenizer(term, return_tensors='pt')\n",
    "            #print(token)\n",
    "            output = model(**token)\n",
    "            scores = output[0][0].detach().numpy()\n",
    "            scores = softmax(scores)\n",
    "            ranking = np.argsort(scores)\n",
    "            ranking = ranking[::-1]\n",
    "            v[term][\"sentiment\"] = dict()\n",
    "            for i in range(scores.shape[0]):\n",
    "                l = config.id2label[ranking[i]]\n",
    "                s = round(float(scores[ranking[i]]), 3)\n",
    "                v[term][\"sentiment\"][l] = s\n",
    "                \n",
    "            \n",
    "\n",
    "    new_name = \"refined_\" + filename\n",
    "    with open(new_name, \"w\") as f:\n",
    "        json.dump(refined_json, f, indent=4)\n",
    "    "
   ]
  },
  {
   "cell_type": "code",
   "execution_count": 6,
   "id": "ca024d48",
   "metadata": {},
   "outputs": [
    {
     "name": "stderr",
     "output_type": "stream",
     "text": [
      "C:\\Users\\jaeyo\\anaconda3\\lib\\site-packages\\huggingface_hub\\file_download.py:1132: FutureWarning: `resume_download` is deprecated and will be removed in version 1.0.0. Downloads always resume when possible. If you want to force a new download, use `force_download=True`.\n",
      "  warnings.warn(\n",
      "Some weights of the model checkpoint at cardiffnlp/twitter-roberta-base-sentiment-latest were not used when initializing RobertaForSequenceClassification: ['roberta.pooler.dense.bias', 'roberta.pooler.dense.weight']\n",
      "- This IS expected if you are initializing RobertaForSequenceClassification from the checkpoint of a model trained on another task or with another architecture (e.g. initializing a BertForSequenceClassification model from a BertForPreTraining model).\n",
      "- This IS NOT expected if you are initializing RobertaForSequenceClassification from the checkpoint of a model that you expect to be exactly identical (initializing a BertForSequenceClassification model from a BertForSequenceClassification model).\n",
      "100%|██████████| 335/335 [00:06<00:00, 50.07it/s]\n",
      "100%|██████████| 358/358 [00:07<00:00, 50.94it/s]\n",
      "100%|██████████| 379/379 [00:07<00:00, 51.11it/s]\n"
     ]
    }
   ],
   "source": [
    "process_file(\"results_3.json\")"
   ]
  },
  {
   "cell_type": "code",
   "execution_count": 7,
   "id": "57a69c23",
   "metadata": {},
   "outputs": [
    {
     "name": "stderr",
     "output_type": "stream",
     "text": [
      "Some weights of the model checkpoint at cardiffnlp/twitter-roberta-base-sentiment-latest were not used when initializing RobertaForSequenceClassification: ['roberta.pooler.dense.bias', 'roberta.pooler.dense.weight']\n",
      "- This IS expected if you are initializing RobertaForSequenceClassification from the checkpoint of a model trained on another task or with another architecture (e.g. initializing a BertForSequenceClassification model from a BertForPreTraining model).\n",
      "- This IS NOT expected if you are initializing RobertaForSequenceClassification from the checkpoint of a model that you expect to be exactly identical (initializing a BertForSequenceClassification model from a BertForSequenceClassification model).\n",
      "100%|██████████| 365/365 [00:07<00:00, 50.37it/s]\n",
      "100%|██████████| 363/363 [00:07<00:00, 50.06it/s]\n",
      "100%|██████████| 363/363 [00:07<00:00, 51.08it/s]\n",
      "Some weights of the model checkpoint at cardiffnlp/twitter-roberta-base-sentiment-latest were not used when initializing RobertaForSequenceClassification: ['roberta.pooler.dense.bias', 'roberta.pooler.dense.weight']\n",
      "- This IS expected if you are initializing RobertaForSequenceClassification from the checkpoint of a model trained on another task or with another architecture (e.g. initializing a BertForSequenceClassification model from a BertForPreTraining model).\n",
      "- This IS NOT expected if you are initializing RobertaForSequenceClassification from the checkpoint of a model that you expect to be exactly identical (initializing a BertForSequenceClassification model from a BertForSequenceClassification model).\n",
      "100%|██████████| 379/379 [00:07<00:00, 51.54it/s]\n",
      "100%|██████████| 368/368 [00:07<00:00, 50.66it/s]\n",
      "0it [00:00, ?it/s]\n",
      "Some weights of the model checkpoint at cardiffnlp/twitter-roberta-base-sentiment-latest were not used when initializing RobertaForSequenceClassification: ['roberta.pooler.dense.bias', 'roberta.pooler.dense.weight']\n",
      "- This IS expected if you are initializing RobertaForSequenceClassification from the checkpoint of a model trained on another task or with another architecture (e.g. initializing a BertForSequenceClassification model from a BertForPreTraining model).\n",
      "- This IS NOT expected if you are initializing RobertaForSequenceClassification from the checkpoint of a model that you expect to be exactly identical (initializing a BertForSequenceClassification model from a BertForSequenceClassification model).\n",
      "100%|██████████| 377/377 [00:07<00:00, 52.46it/s]\n",
      "100%|██████████| 384/384 [00:07<00:00, 52.36it/s]\n",
      "100%|██████████| 384/384 [00:07<00:00, 52.40it/s]\n"
     ]
    }
   ],
   "source": [
    "process_file(\"results_0.json\")\n",
    "process_file(\"results_1.json\")\n",
    "process_file(\"results_2.json\")"
   ]
  },
  {
   "cell_type": "code",
   "execution_count": null,
   "id": "b4ce383d",
   "metadata": {},
   "outputs": [],
   "source": []
  }
 ],
 "metadata": {
  "kernelspec": {
   "display_name": "Python 3 (ipykernel)",
   "language": "python",
   "name": "python3"
  },
  "language_info": {
   "codemirror_mode": {
    "name": "ipython",
    "version": 3
   },
   "file_extension": ".py",
   "mimetype": "text/x-python",
   "name": "python",
   "nbconvert_exporter": "python",
   "pygments_lexer": "ipython3",
   "version": "3.9.7"
  }
 },
 "nbformat": 4,
 "nbformat_minor": 5
}
