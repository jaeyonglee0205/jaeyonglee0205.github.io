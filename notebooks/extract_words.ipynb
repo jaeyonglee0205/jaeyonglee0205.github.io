{
 "cells": [
  {
   "cell_type": "code",
   "execution_count": 1,
   "id": "74225f5b",
   "metadata": {},
   "outputs": [],
   "source": [
    "import os\n",
    "import re\n",
    "import tqdm\n",
    "import json"
   ]
  },
  {
   "cell_type": "code",
   "execution_count": 2,
   "id": "97051042",
   "metadata": {},
   "outputs": [],
   "source": [
    "Fourties = [str(x) for x in range(1939, 1950)]\n",
    "Fifties = [str(x) for x in range(1950, 1960)]\n",
    "Sixties = [str(x) for x in range(1960, 1965)]\n",
    "\n",
    "nc = dict()\n",
    "nc[\"40\"] = dict()\n",
    "nc[\"50\"] = dict()\n",
    "nc[\"60\"] = dict()\n",
    "ne = dict()\n",
    "ne[\"40\"] = dict()\n",
    "ne[\"50\"] = dict()\n",
    "ne[\"60\"] = dict()\n",
    "s = dict()\n",
    "s[\"40\"] = dict()\n",
    "s[\"50\"] = dict()\n",
    "s[\"60\"] = dict()\n",
    "w = dict()\n",
    "w[\"40\"] = dict()\n",
    "w[\"50\"] = dict()\n",
    "w[\"60\"] = dict()"
   ]
  },
  {
   "cell_type": "code",
   "execution_count": 3,
   "id": "ea0f73f7",
   "metadata": {},
   "outputs": [],
   "source": [
    "def find_txt_files(directory):\n",
    "    txt_files = []\n",
    "    for root, dirs, files in os.walk(directory):\n",
    "        for file in files:\n",
    "            if file.endswith(\".txt\"):\n",
    "                txt_files.append(os.path.join(root, file))\n",
    "    return txt_files"
   ]
  },
  {
   "cell_type": "code",
   "execution_count": 4,
   "id": "71ed4a68",
   "metadata": {},
   "outputs": [],
   "source": [
    "def most_frequent(d, number):\n",
    "    result = dict(sorted(d.items(), key=lambda elem: elem[1], reverse=True)[:number])\n",
    "    # result = result[:number]\n",
    "    return result\n",
    "    "
   ]
  },
  {
   "cell_type": "code",
   "execution_count": 5,
   "id": "95b710a0",
   "metadata": {},
   "outputs": [
    {
     "name": "stderr",
     "output_type": "stream",
     "text": [
      "100%|██████████| 4/4 [06:46<00:00, 101.75s/it]\n"
     ]
    }
   ],
   "source": [
    "for region in tqdm.tqdm(os.listdir(\"data\")):\n",
    "    if region == \"northcentral\":\n",
    "        wf = nc\n",
    "    elif region == \"northeast\":\n",
    "        wf = ne\n",
    "    elif region == \"south\":\n",
    "        wf = s\n",
    "    elif region == \"west\":\n",
    "        wf = w\n",
    "\n",
    "    for pub in os.listdir(f\"data/{region}\"):\n",
    "        \n",
    "        for years in os.listdir(f\"data/{region}/{pub}\"):\n",
    "            if years in Fourties:\n",
    "                wf_s = wf[\"40\"]\n",
    "            elif years in Fifties:\n",
    "                wf_s = wf[\"50\"]\n",
    "            elif years in Sixties:\n",
    "                wf_s = wf[\"60\"]\n",
    "            else:\n",
    "                continue\n",
    "            \n",
    "            txt_files = find_txt_files(f\"data/{region}/{pub}/{years}\")\n",
    "            \n",
    "            for txt_file in txt_files:\n",
    "                with open(txt_file, encoding='utf-8') as f:\n",
    "                    content = f.read().lower()\n",
    "                \n",
    "                match_pattern = re.findall(r'\\b[a-z]{3,15}\\b', content)\n",
    "                \n",
    "                for word in match_pattern:\n",
    "                    count = wf_s.get(word, 0)\n",
    "                    wf_s[word] = count + 1\n",
    "\n",
    "i = 0\n",
    "for d in [nc, ne, s, w]:\n",
    "    all_result = {}\n",
    "\n",
    "    all_result[\"40\"] = most_frequent(d[\"40\"], 500)\n",
    "    all_result[\"50\"] = most_frequent(d[\"50\"], 500)\n",
    "    all_result[\"60\"] = most_frequent(d[\"60\"], 500)\n",
    "\n",
    "    with open(f'results_{i}.json', \"w\") as f:\n",
    "        json.dump(all_result, f, indent=4)\n",
    "    \n",
    "    i += 1\n",
    "    \n",
    "    \n",
    "            "
   ]
  }
 ],
 "metadata": {
  "kernelspec": {
   "display_name": "Python 3 (ipykernel)",
   "language": "python",
   "name": "python3"
  },
  "language_info": {
   "codemirror_mode": {
    "name": "ipython",
    "version": 3
   },
   "file_extension": ".py",
   "mimetype": "text/x-python",
   "name": "python",
   "nbconvert_exporter": "python",
   "pygments_lexer": "ipython3",
   "version": "3.9.7"
  }
 },
 "nbformat": 4,
 "nbformat_minor": 5
}
