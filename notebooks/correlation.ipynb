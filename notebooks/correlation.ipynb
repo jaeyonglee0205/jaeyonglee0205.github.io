{
 "cells": [
  {
   "cell_type": "code",
   "execution_count": 4,
   "id": "90b84f92",
   "metadata": {},
   "outputs": [],
   "source": [
    "import pandas as pd\n",
    "from scipy.stats import pearsonr, spearmanr"
   ]
  },
  {
   "cell_type": "code",
   "execution_count": 5,
   "id": "98b861f4",
   "metadata": {},
   "outputs": [],
   "source": [
    "north_eastern_data = {\n",
    "    'data': [495179, 653108, 777956],\n",
    "    'percentage': [5.3, 5.1, 5.1]\n",
    "}\n",
    "north_central_data = {\n",
    "    'data': [442288, 615681],\n",
    "    'percentage': [3.9, 4.2]\n",
    "}\n",
    "south_data = {\n",
    "    'data': [552401, 800509, 1057107],\n",
    "    'percentage': [4.3, 3.0, 2.9000000000000004]\n",
    "}\n",
    "west_data = {\n",
    "    'data': [263619, 419480, 630464],\n",
    "    'percentage': [6.4, 5.1, 3.0]\n",
    "}\n",
    "\n",
    "ne_df = pd.DataFrame(north_eastern_data)\n",
    "nc_df = pd.DataFrame(north_central_data)\n",
    "s_df = pd.DataFrame(south_data)\n",
    "w_df = pd.DataFrame(west_data)\n",
    "dfs = [ne_df, nc_df, s_df, w_df]"
   ]
  },
  {
   "cell_type": "code",
   "execution_count": 6,
   "id": "9fc816cc",
   "metadata": {},
   "outputs": [
    {
     "name": "stdout",
     "output_type": "stream",
     "text": [
      "-0.8977509991515507 0.29 -0.8660254037844387 0.3333333333333332\n",
      "1.0 1.0 0.9999999999999999 nan\n",
      "-0.8919085074082502 0.299 -1.0 0.0\n",
      "-0.9988249179403158 0.031 -1.0 0.0\n"
     ]
    }
   ],
   "source": [
    "for df in dfs:\n",
    "    pearson_corr, pearson_p = pearsonr(df['data'], df['percentage'])\n",
    "    spearman_corr, spearman_p = spearmanr(df['data'], df['percentage'])\n",
    "    print(pearson_corr, round(pearson_p, 3), spearman_corr, spearman_p)"
   ]
  }
 ],
 "metadata": {
  "kernelspec": {
   "display_name": "Python 3 (ipykernel)",
   "language": "python",
   "name": "python3"
  },
  "language_info": {
   "codemirror_mode": {
    "name": "ipython",
    "version": 3
   },
   "file_extension": ".py",
   "mimetype": "text/x-python",
   "name": "python",
   "nbconvert_exporter": "python",
   "pygments_lexer": "ipython3",
   "version": "3.9.7"
  }
 },
 "nbformat": 4,
 "nbformat_minor": 5
}
