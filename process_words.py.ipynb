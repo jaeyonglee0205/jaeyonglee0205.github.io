{
 "cells": [
  {
   "cell_type": "code",
   "execution_count": 19,
   "id": "a1abcf8f",
   "metadata": {},
   "outputs": [],
   "source": [
    "import os\n",
    "import spacy\n",
    "import json\n",
    "from tqdm import tqdm\n",
    "import numpy as np\n",
    "from scipy.special import softmax"
   ]
  },
  {
   "cell_type": "code",
   "execution_count": 20,
   "id": "2a0d4123",
   "metadata": {},
   "outputs": [],
   "source": [
    "from transformers import pipeline, AutoTokenizer, AutoModelForSequenceClassification, AutoConfig"
   ]
  },
  {
   "cell_type": "code",
   "execution_count": 21,
   "id": "eb6452b2",
   "metadata": {},
   "outputs": [],
   "source": [
    "MODEL=\"cardiffnlp/twitter-roberta-base-sentiment-latest\""
   ]
  },
  {
   "cell_type": "code",
   "execution_count": 29,
   "id": "e111e124",
   "metadata": {},
   "outputs": [],
   "source": [
    "nlp = spacy.load(\"en_core_web_sm\")"
   ]
  },
  {
   "cell_type": "code",
   "execution_count": 36,
   "id": "c52a651a",
   "metadata": {},
   "outputs": [],
   "source": [
    "def process_file(filename):\n",
    "    refined_json = dict()\n",
    "    #sentiment_task = pipeline(\"sentiment-analysis\", model=MODEL, tokenizer=MODEL)\n",
    "    tokenizer = AutoTokenizer.from_pretrained(MODEL)\n",
    "    model = AutoModelForSequenceClassification.from_pretrained(MODEL)\n",
    "    config = AutoConfig.from_pretrained(MODEL)\n",
    "    with open(filename, \"r\") as f:\n",
    "        content = json.load(f)\n",
    "\n",
    "    for k, v in content.items():\n",
    "        c = \" \".join(v.keys())\n",
    "        doc = nlp(c)\n",
    "        for word in doc:\n",
    "            if word.is_stop or word.is_punct or word.is_space or word.like_num:\n",
    "                txt = word.text\n",
    "                del v[txt]\n",
    "        refined_json[k] = v\n",
    "        \n",
    "    for k, v in refined_json.items():\n",
    "        for term, frequency in tqdm(v.items()):\n",
    "            info = dict()\n",
    "            v[term] = dict()\n",
    "            v[term][\"frequency\"] = frequency\n",
    "#             result = sentiment_task(term)[0]\n",
    "#             v[term][\"sentiment\"] = result\n",
    "            token = tokenizer(term, return_tensors='pt')\n",
    "            #print(token)\n",
    "            output = model(**token)\n",
    "            scores = output[0][0].detach().numpy()\n",
    "            scores = softmax(scores)\n",
    "            ranking = np.argsort(scores)\n",
    "            ranking = ranking[::-1]\n",
    "            v[term][\"sentiment\"] = dict()\n",
    "            for i in range(scores.shape[0]):\n",
    "                l = config.id2label[ranking[i]]\n",
    "                s = round(float(scores[ranking[i]]), 3)\n",
    "                v[term][\"sentiment\"][l] = s\n",
    "                \n",
    "            \n",
    "\n",
    "    new_name = \"refined_\" + filename\n",
    "    with open(new_name, \"w\") as f:\n",
    "        json.dump(refined_json, f, indent=4)\n",
    "    "
   ]
  },
  {
   "cell_type": "code",
   "execution_count": 37,
   "id": "ca024d48",
   "metadata": {},
   "outputs": [
    {
     "name": "stderr",
     "output_type": "stream",
     "text": [
      "Some weights of the model checkpoint at cardiffnlp/twitter-roberta-base-sentiment-latest were not used when initializing RobertaForSequenceClassification: ['roberta.pooler.dense.bias', 'roberta.pooler.dense.weight']\n",
      "- This IS expected if you are initializing RobertaForSequenceClassification from the checkpoint of a model trained on another task or with another architecture (e.g. initializing a BertForSequenceClassification model from a BertForPreTraining model).\n",
      "- This IS NOT expected if you are initializing RobertaForSequenceClassification from the checkpoint of a model that you expect to be exactly identical (initializing a BertForSequenceClassification model from a BertForSequenceClassification model).\n",
      "100%|██████████| 335/335 [00:06<00:00, 51.33it/s]\n",
      "100%|██████████| 358/358 [00:06<00:00, 51.51it/s]\n",
      "100%|██████████| 379/379 [00:07<00:00, 50.97it/s]\n"
     ]
    }
   ],
   "source": [
    "process_file(\"results_3.json\")"
   ]
  },
  {
   "cell_type": "code",
   "execution_count": 38,
   "id": "57a69c23",
   "metadata": {},
   "outputs": [
    {
     "name": "stderr",
     "output_type": "stream",
     "text": [
      "Some weights of the model checkpoint at cardiffnlp/twitter-roberta-base-sentiment-latest were not used when initializing RobertaForSequenceClassification: ['roberta.pooler.dense.bias', 'roberta.pooler.dense.weight']\n",
      "- This IS expected if you are initializing RobertaForSequenceClassification from the checkpoint of a model trained on another task or with another architecture (e.g. initializing a BertForSequenceClassification model from a BertForPreTraining model).\n",
      "- This IS NOT expected if you are initializing RobertaForSequenceClassification from the checkpoint of a model that you expect to be exactly identical (initializing a BertForSequenceClassification model from a BertForSequenceClassification model).\n",
      "100%|██████████| 365/365 [00:07<00:00, 50.78it/s]\n",
      "100%|██████████| 363/363 [00:07<00:00, 50.71it/s]\n",
      "100%|██████████| 363/363 [00:07<00:00, 51.39it/s]\n",
      "Some weights of the model checkpoint at cardiffnlp/twitter-roberta-base-sentiment-latest were not used when initializing RobertaForSequenceClassification: ['roberta.pooler.dense.bias', 'roberta.pooler.dense.weight']\n",
      "- This IS expected if you are initializing RobertaForSequenceClassification from the checkpoint of a model trained on another task or with another architecture (e.g. initializing a BertForSequenceClassification model from a BertForPreTraining model).\n",
      "- This IS NOT expected if you are initializing RobertaForSequenceClassification from the checkpoint of a model that you expect to be exactly identical (initializing a BertForSequenceClassification model from a BertForSequenceClassification model).\n",
      "100%|██████████| 379/379 [00:07<00:00, 49.58it/s]\n",
      "100%|██████████| 491/491 [00:09<00:00, 50.55it/s]\n",
      "100%|██████████| 494/494 [00:09<00:00, 50.64it/s]\n",
      "Some weights of the model checkpoint at cardiffnlp/twitter-roberta-base-sentiment-latest were not used when initializing RobertaForSequenceClassification: ['roberta.pooler.dense.bias', 'roberta.pooler.dense.weight']\n",
      "- This IS expected if you are initializing RobertaForSequenceClassification from the checkpoint of a model trained on another task or with another architecture (e.g. initializing a BertForSequenceClassification model from a BertForPreTraining model).\n",
      "- This IS NOT expected if you are initializing RobertaForSequenceClassification from the checkpoint of a model that you expect to be exactly identical (initializing a BertForSequenceClassification model from a BertForSequenceClassification model).\n",
      "0it [00:00, ?it/s]\n",
      "100%|██████████| 384/384 [00:07<00:00, 51.55it/s]\n",
      "100%|██████████| 384/384 [00:07<00:00, 51.89it/s]\n"
     ]
    }
   ],
   "source": [
    "process_file(\"results_0.json\")\n",
    "process_file(\"results_1.json\")\n",
    "process_file(\"results_2.json\")"
   ]
  },
  {
   "cell_type": "code",
   "execution_count": null,
   "id": "b4ce383d",
   "metadata": {},
   "outputs": [],
   "source": []
  }
 ],
 "metadata": {
  "kernelspec": {
   "display_name": "Python 3 (ipykernel)",
   "language": "python",
   "name": "python3"
  },
  "language_info": {
   "codemirror_mode": {
    "name": "ipython",
    "version": 3
   },
   "file_extension": ".py",
   "mimetype": "text/x-python",
   "name": "python",
   "nbconvert_exporter": "python",
   "pygments_lexer": "ipython3",
   "version": "3.9.7"
  }
 },
 "nbformat": 4,
 "nbformat_minor": 5
}
